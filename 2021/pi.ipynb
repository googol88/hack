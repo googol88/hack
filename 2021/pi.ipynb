{
 "cells": [
  {
   "cell_type": "code",
   "execution_count": null,
   "metadata": {},
   "outputs": [],
   "source": [
    "# Included in Python standard libraries\n",
    "import time\n",
    "import random\n",
    "\n",
    "# Install these via a package manager\n",
    "import numpy as np\n",
    "import matplotlib.pyplot as plt\n",
    "import matplotlib as mpl\n",
    "from ipywidgets import interactive  # From Jupyter\n",
    "\n",
    "\n",
    "\n",
    "%matplotlib inline\n",
    "\n",
    "# Set matplotlib DPI for clearer pictures\n",
    "mpl.rcParams['figure.dpi'] = 300\n",
    "\n",
    "# Comment this out if you get errors when plotting, these are just my plotting\n",
    "# preferences and are not required for the notebook\n",
    "mpl.rcParams['mathtext.fontset'] = 'stix'\n",
    "mpl.rcParams['font.family'] = 'STIXGeneral'\n",
    "mpl.rcParams['text.usetex'] = True"
   ]
  },
  {
   "cell_type": "markdown",
   "metadata": {},
   "source": [
    "# Computing $\\pi$ with `Python`"
   ]
  },
  {
   "cell_type": "markdown",
   "metadata": {},
   "source": [
    "In this short tutorial, you'll learn about how to \"numerically\" compute $\\pi = 3.14...$ using random sampling. We will do this using a very popular technique called [Monte Carlo](https://en.wikipedia.org/wiki/Monte_Carlo_method), which generally speaking *rely on random sampling to produce results*. After this tutorial, you will be able to \n",
    "1. understand the utility of random sampling in the numerical calculation\n",
    "2. write efficient numerical `Python` code\n",
    "3. visualize your results using `matplotlib`"
   ]
  },
  {
   "cell_type": "markdown",
   "metadata": {},
   "source": [
    "## Background"
   ]
  },
  {
   "cell_type": "markdown",
   "metadata": {},
   "source": [
    "### Relationship between the radius and circumference of a circle"
   ]
  },
  {
   "cell_type": "markdown",
   "metadata": {},
   "source": [
    "Let's pretend for a moment that you've forgotten everything you know about $\\pi$ except that it is the ratio of the circumference ($C$) of a circle to it's diameter ($d$):\n",
    "\n",
    "$$ \\pi = \\frac{C}{d}.$$\n",
    "\n",
    "Importantly, above I am **defining pi**. I am pretending to not know it's value, and I am suggesting that the ratio between the circumference and diameter of a circle is constant.\n",
    "\n",
    "You also know that the diameter is simply two times the radius: $d = 2r.$ Rearranging the above equation, you can write the form for the circumference of a circle in terms of its radius, the number 2, and the constant $\\pi$ (which remember, you've forgotten its value!),\n",
    "\n",
    "$$ C = 2 \\pi r. $$\n",
    "\n",
    "This equation should be familiar to you!"
   ]
  },
  {
   "cell_type": "markdown",
   "metadata": {},
   "source": [
    "### Areas of circles and squares"
   ]
  },
  {
   "cell_type": "markdown",
   "metadata": {},
   "source": [
    "The area of a square of length $L$ is of course $L^2$:\n",
    "\n",
    "$$ A_\\mathrm{square}(L) = L^2.$$\n",
    "\n",
    "What is the area of a circle?\n",
    "\n",
    "---\n",
    "\n",
    "**If you do not know calculus, skip this part!**\n",
    "\n",
    "<font color='red'>\n",
    "From calculus, we can actually derive the area of a circle from the circumference:\n",
    "\n",
    "$$ A_\\mathrm{circle}(r) = 2 \\pi \\int_0^r x \\: dx = \\pi r^2$$\n",
    "</font>\n",
    "\n",
    "---\n",
    "\n",
    "Regardless, you should know anyway that the area of a circle of radius $r$ is $\\pi r^2$:\n",
    "\n",
    "$$A_\\mathrm{circle}(r) = \\pi r^2.$$\n",
    "\n",
    "Note that so far, we did not need to know what the *value* of $\\pi$ is yet!\n"
   ]
  },
  {
   "cell_type": "markdown",
   "metadata": {},
   "source": [
    "### A circle inscribed in a square"
   ]
  },
  {
   "cell_type": "markdown",
   "metadata": {},
   "source": [
    "Take a moment, and convince yourselves that *geometrically* the figure below makes sense. The circle (orange) is inscribed within the square (black). If the circle has radius $r,$ then the square must have side length $2r.$"
   ]
  },
  {
   "cell_type": "markdown",
   "metadata": {},
   "source": [
    "![title](img/circle_in_square.png)"
   ]
  },
  {
   "cell_type": "markdown",
   "metadata": {},
   "source": [
    "This means that the area of the area of the square and the circle are given by\n",
    "\n",
    "$$ A_\\mathrm{square}(r) = 4r^2, \\quad A_\\mathrm{circle}(r) = \\pi r^2. $$"
   ]
  },
  {
   "cell_type": "markdown",
   "metadata": {},
   "source": [
    "### The area ratio"
   ]
  },
  {
   "cell_type": "markdown",
   "metadata": {},
   "source": [
    "Lets take a look at what happens if we compute the ratio of the area of a circle to a square:\n",
    "\n",
    "$$ \\frac{A_\\mathrm{circle}}{A_\\mathrm{square}} = \\frac{\\pi}{4}.$$\n",
    "\n",
    "If we have some way of computing the ratio of the areas, we will be able to figure out what $\\pi$ is. Fortunately, this is possible. We can use Monte Carlo sampling to do so."
   ]
  },
  {
   "cell_type": "markdown",
   "metadata": {},
   "source": [
    "### Random sampling"
   ]
  },
  {
   "cell_type": "markdown",
   "metadata": {},
   "source": [
    "Consider the following experiment: you throw a dart randomly somewhere within the black square above. This dart will always land within the square, but it may or may not land within the orange circle. Note that the probability of landing in the circle is given by the area ratio above. Thus, if one takes a single random point, uniformally distributed in the square, the probability of landing within the circle is $\\pi/4.$ Moreover, we can conclude if we take an infinite number of points, the ratio of the total number of points that fall within the circle, to that of the total number of points sampled will equal $\\pi/4.$ This is the essense of Monte Carlo sampling. We can leverage the idea of randomness in smart ways to compute quantities of interest."
   ]
  },
  {
   "cell_type": "code",
   "execution_count": null,
   "metadata": {},
   "outputs": [],
   "source": [
    "random_x = np.random.uniform(low=-1.0, high=1.0, size=5000)\n",
    "random_y = np.random.uniform(low=-1.0, high=1.0, size=5000)\n",
    "color = random_x**2 + random_y**2 < 1.0\n",
    "color = ['red' if c == 1 else 'black' for c in color]"
   ]
  },
  {
   "cell_type": "code",
   "execution_count": null,
   "metadata": {},
   "outputs": [],
   "source": [
    "plt.clf()\n",
    "def f(npts):\n",
    "    fig, axs = plt.subplots(1, 1, figsize=(2, 2))\n",
    "    axs.scatter(random_x[:npts], random_y[:npts], color=color[:npts], s=0.1)\n",
    "    axs.set_xlim(-1, 1)\n",
    "    axs.set_ylim(-1, 1)\n",
    "    axs.set_aspect(\"equal\")\n",
    "    fig.tight_layout()\n",
    "    plt.show()\n",
    "\n",
    "interactive_plot = interactive(f, npts=(0, 5000, 100))\n",
    "interactive_plot"
   ]
  },
  {
   "cell_type": "markdown",
   "metadata": {},
   "source": [
    "## Core code and results"
   ]
  },
  {
   "cell_type": "markdown",
   "metadata": {},
   "source": [
    "To simply make the usage of the code easier, lets define a class which contains everything we need to perform the sampling."
   ]
  },
  {
   "cell_type": "code",
   "execution_count": null,
   "metadata": {},
   "outputs": [],
   "source": [
    "class Sampler:\n",
    "    \n",
    "    def __init__(self, N):\n",
    "        self.N = N\n",
    "        \n",
    "    def sample(self):\n",
    "        \n",
    "        # First, we sample uniformally on the x and y axes; note\n",
    "        # that the length of the side of the square is 2, meaning\n",
    "        # the radius of the inscribed circle is 1.\n",
    "        x = np.random.uniform(low=-1.0, high=1.0, size=self.N)\n",
    "        y = np.random.uniform(low=-1.0, high=1.0, size=self.N)\n",
    "        return x, y\n",
    "    \n",
    "    def p_in_unit_circle(self):\n",
    "        \n",
    "        x, y = self.sample()\n",
    "        \n",
    "        # Next, we check if each (x, y) point is within the\n",
    "        # circle. Recall that the equation for a circle is\n",
    "        # x^2 + y^2 = 1 (for radius 1). A point is inside the\n",
    "        # circle if x^2 + y^2 < 1, which we can easily check\n",
    "        # using numpy vectorization\n",
    "        in_circle = x**2 + y**2 < 1.0\n",
    "        \n",
    "        # True values evaluate to 1, and False evalutes to 0. So,\n",
    "        # The sum of in_circle gives us the total number of points\n",
    "        # that fell in the circle. Dividing by N gives us the ratio\n",
    "        return in_circle.sum() / self.N\n",
    "        \n",
    "    def predict_pi(self, n_samples=1):\n",
    "        \n",
    "        # Return the computed value over n_samples Monte Carlo simulations,\n",
    "        # in addition to the standard error in the mean\n",
    "        samples = np.array([self.p_in_unit_circle() * 4.0 for _ in range(n_samples)])\n",
    "        return samples.mean(), samples.std() / np.sqrt(self.N)"
   ]
  },
  {
   "cell_type": "markdown",
   "metadata": {},
   "source": [
    "### Plotting the `x` and `y` sampling"
   ]
  },
  {
   "cell_type": "markdown",
   "metadata": {},
   "source": [
    "Before analyzing what our code is predicting, we can first plot some examples of what the samples look like as a function of the total number of points sampled in the simulation. Before that though, let's just confirm our intuition about the random sampling of `x` and `y`."
   ]
  },
  {
   "cell_type": "code",
   "execution_count": null,
   "metadata": {},
   "outputs": [],
   "source": [
    "fig, axs = plt.subplots(1, 2, figsize=(4, 2), sharex=True, sharey=True)\n",
    "\n",
    "sampler = Sampler(10000)\n",
    "x, y = sampler.sample()\n",
    "\n",
    "# Histogram\n",
    "h = axs[0].hist2d(x, y, bins=50)\n",
    "axs[0].set_xlim(-1, 1)\n",
    "axs[0].set_ylim(-1, 1)\n",
    "axs[0].set_title(\"2D Histogram\", fontsize=6)\n",
    "axs[0].set_aspect(\"equal\")\n",
    "\n",
    "# Scatter plot\n",
    "# circle1 = plt.Circle((0, 0), 1, color='r', alpha=0.1)\n",
    "# plt.gca().add_patch(circle1)\n",
    "axs[1].scatter(x, y, s=0.001, color='black')\n",
    "axs[1].set_xlim(-1, 1)\n",
    "axs[1].set_ylim(-1, 1)\n",
    "axs[1].set_title(\"Scatterplot\", fontsize=6)\n",
    "axs[1].set_aspect(\"equal\")\n",
    "\n",
    "\n",
    "plt.show()"
   ]
  },
  {
   "cell_type": "markdown",
   "metadata": {},
   "source": [
    "Looks like random noise, as expected."
   ]
  },
  {
   "cell_type": "markdown",
   "metadata": {},
   "source": [
    "### Monte Carlo results"
   ]
  },
  {
   "cell_type": "markdown",
   "metadata": {},
   "source": [
    "Now, we can look at how the results change as a function of the number of samples."
   ]
  },
  {
   "cell_type": "code",
   "execution_count": null,
   "metadata": {},
   "outputs": [],
   "source": [
    "N = 10**np.array([ii for ii in range(1, 7)])"
   ]
  },
  {
   "cell_type": "code",
   "execution_count": null,
   "metadata": {},
   "outputs": [],
   "source": [
    "predictions = []\n",
    "for nn in N:\n",
    "    sampler = Sampler(nn)\n",
    "    (pred, _) = sampler.predict_pi()\n",
    "    predictions.append(pred)"
   ]
  },
  {
   "cell_type": "code",
   "execution_count": null,
   "metadata": {},
   "outputs": [],
   "source": [
    "fig, ax = plt.subplots(1, 1, figsize=(3, 2))\n",
    "ax.plot(N, predictions, 'ro')\n",
    "ax.axhline(np.pi, *ax.get_xlim(), color='black', label=r\"$\\pi$\")\n",
    "ax.set_xscale('log')\n",
    "ax.set_ylabel(r\"$\\pi$~(approximated)\")\n",
    "ax.set_xlabel(r\"$N$\")\n",
    "plt.legend()\n",
    "plt.show()"
   ]
  },
  {
   "cell_type": "markdown",
   "metadata": {},
   "source": [
    "### Error analysis"
   ]
  },
  {
   "cell_type": "markdown",
   "metadata": {},
   "source": [
    "It is always important to analyze how the error in the predicted result as a function of the number of samples."
   ]
  },
  {
   "cell_type": "code",
   "execution_count": null,
   "metadata": {},
   "outputs": [],
   "source": [
    "N = 10**np.array([ii for ii in range(1, 9)])\n",
    "predictions = []\n",
    "for nn in N:\n",
    "    sampler = Sampler(nn)\n",
    "    (pred, _) = sampler.predict_pi(1)\n",
    "    predictions.append(np.abs(pred - np.pi))"
   ]
  },
  {
   "cell_type": "code",
   "execution_count": null,
   "metadata": {},
   "outputs": [],
   "source": [
    "fig, ax = plt.subplots(1, 1, figsize=(3, 2))\n",
    "ax.plot(np.log10(N), np.log10(predictions), 'ro')\n",
    "ax.plot(np.log10(N), np.log10(1.0 / np.sqrt(N)), 'k')\n",
    "ax.set_ylabel(r\"$\\log_{10} |\\pi_\\mathrm{true} - \\pi_\\mathrm{pred}|$\")\n",
    "ax.set_xlabel(r\"$\\log_{10} N$\")\n",
    "plt.show()"
   ]
  },
  {
   "cell_type": "markdown",
   "metadata": {},
   "source": [
    "Log-log plot. What happens when we plot $y = 1/x$ on a log-log scale?\n",
    "\n",
    "$$ \\log y = \\log (1/\\sqrt{x}) = \\log 1 - \\frac{1}{2}\\log x $$\n",
    "\n",
    "If you define new variables, $x_\\mathrm{log} = \\log_{10} x$ and $y_\\mathrm{log} = \\log_{10} y$ and plot those (this is what we're doing) you can see those variables have a linear relationship, with a slope of $-1/2.$"
   ]
  },
  {
   "cell_type": "markdown",
   "metadata": {},
   "source": [
    "## Analysis of sampling efficiency of different methods"
   ]
  },
  {
   "cell_type": "markdown",
   "metadata": {},
   "source": [
    "If you are used to compiled computer languages, you might be tempted to do something like this when sampling random numbers:"
   ]
  },
  {
   "cell_type": "code",
   "execution_count": null,
   "metadata": {},
   "outputs": [],
   "source": [
    "samples = []\n",
    "for ii in range(1000):\n",
    "    samples.append(random.random())  # Fill list with random samples between 0 and 1"
   ]
  },
  {
   "cell_type": "markdown",
   "metadata": {},
   "source": [
    "However, you'll note that in all the code in this notebook, there is not a single for loop which iterates over more than 10 or so values. Why did I choose to do this?\n",
    "\n",
    "**Python for loops are extremely slow.** In numerical scientific computing, we avoid Python for loops at all costs.\n",
    "\n",
    "The `np.random.uniform` function calls fast low-level code backends, and does not compute the sample using Python for loops. Thus, it is very fast. We can quantify this:"
   ]
  },
  {
   "cell_type": "code",
   "execution_count": null,
   "metadata": {},
   "outputs": [],
   "source": [
    "def slow_sample(N, avg_over=10):\n",
    "    \"\"\"Samples N uniform random numbers between 0 and 1.\n",
    "    Returns the mean time it took to run and the standard deviation.\"\"\"\n",
    "\n",
    "    all_times = []\n",
    "    for _ in range(avg_over):\n",
    "        t0 = time.time()\n",
    "        samples = []\n",
    "        for ii in range(N):\n",
    "            samples.append(random.random())  # Fill list with random samples between 0 and 1\n",
    "        all_times.append(time.time() - t0)\n",
    "    return np.mean(all_times), np.std(all_times)\n",
    "\n",
    "def fast_sample(N, avg_over=10):\n",
    "    \"\"\"Does the same thing as slow_sample, but using numpy.\"\"\"\n",
    "    \n",
    "    all_times = []\n",
    "    for _ in range(avg_over):\n",
    "        t0 = time.time()\n",
    "        np.random.uniform(low=0.0, high=1.0, size=N)\n",
    "        all_times.append(time.time() - t0)\n",
    "    return np.mean(all_times), np.std(all_times)"
   ]
  },
  {
   "cell_type": "code",
   "execution_count": null,
   "metadata": {},
   "outputs": [],
   "source": [
    "N = 10**np.array([ii for ii in range(7)])\n",
    "\n",
    "slow_sample_runtime = [slow_sample(nn) for nn in N]\n",
    "slow_sample_means = [xx[0] for xx in slow_sample_runtime]\n",
    "slow_sample_std = [xx[1] for xx in slow_sample_runtime]\n",
    "\n",
    "fast_sample_runtime = [fast_sample(nn) for nn in N]\n",
    "fast_sample_means = [xx[0] for xx in fast_sample_runtime]\n",
    "fast_sample_std = [xx[1] for xx in fast_sample_runtime]"
   ]
  },
  {
   "cell_type": "code",
   "execution_count": null,
   "metadata": {},
   "outputs": [],
   "source": [
    "fig, ax = plt.subplots(1, 1, figsize=(3, 2))\n",
    "ax.errorbar(N, slow_sample_means, yerr=slow_sample_std, color='red', label=\"For loop\")\n",
    "ax.errorbar(N, fast_sample_means, yerr=fast_sample_std, color='blue', label=\"Numpy\")\n",
    "ax.set_xscale('log')\n",
    "ax.set_ylabel(r\"Runtime (s)\")\n",
    "ax.set_xlabel(r\"Number of samples\")\n",
    "ax.legend()\n",
    "plt.show()"
   ]
  },
  {
   "cell_type": "code",
   "execution_count": null,
   "metadata": {},
   "outputs": [],
   "source": []
  }
 ],
 "metadata": {
  "kernelspec": {
   "display_name": "Python 3",
   "language": "python",
   "name": "python3"
  },
  "language_info": {
   "codemirror_mode": {
    "name": "ipython",
    "version": 3
   },
   "file_extension": ".py",
   "mimetype": "text/x-python",
   "name": "python",
   "nbconvert_exporter": "python",
   "pygments_lexer": "ipython3",
   "version": "3.7.10"
  }
 },
 "nbformat": 4,
 "nbformat_minor": 5
}
